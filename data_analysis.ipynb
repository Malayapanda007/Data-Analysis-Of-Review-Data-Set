{
 "cells": [
  {
   "cell_type": "code",
   "execution_count": 415,
   "metadata": {},
   "outputs": [],
   "source": [
    "import pandas as pd"
   ]
  },
  {
   "cell_type": "code",
   "execution_count": 416,
   "metadata": {},
   "outputs": [],
   "source": [
    "Data=pd.read_csv('C:/Users/91637/OneDrive/Desktop/New folder/Data Analyst - Test Data - US.csv')"
   ]
  },
  {
   "cell_type": "markdown",
   "metadata": {},
   "source": [
    "First Make A copy Of The Data"
   ]
  },
  {
   "cell_type": "code",
   "execution_count": 417,
   "metadata": {},
   "outputs": [],
   "source": [
    "Data1=Data.copy()"
   ]
  },
  {
   "cell_type": "code",
   "execution_count": 418,
   "metadata": {},
   "outputs": [
    {
     "data": {
      "text/html": [
       "<div>\n",
       "<style scoped>\n",
       "    .dataframe tbody tr th:only-of-type {\n",
       "        vertical-align: middle;\n",
       "    }\n",
       "\n",
       "    .dataframe tbody tr th {\n",
       "        vertical-align: top;\n",
       "    }\n",
       "\n",
       "    .dataframe thead th {\n",
       "        text-align: right;\n",
       "    }\n",
       "</style>\n",
       "<table border=\"1\" class=\"dataframe\">\n",
       "  <thead>\n",
       "    <tr style=\"text-align: right;\">\n",
       "      <th></th>\n",
       "      <th>Review</th>\n",
       "      <th>date</th>\n",
       "      <th>Location</th>\n",
       "    </tr>\n",
       "  </thead>\n",
       "  <tbody>\n",
       "    <tr>\n",
       "      <th>0</th>\n",
       "      <td>I was very impressed with the resort.\\n Great ...</td>\n",
       "      <td>2019/08/20</td>\n",
       "      <td>Sebastian</td>\n",
       "    </tr>\n",
       "    <tr>\n",
       "      <th>1</th>\n",
       "      <td>The rooms were nice the outside needs work als...</td>\n",
       "      <td>2019/08/20</td>\n",
       "      <td>Los Angeles</td>\n",
       "    </tr>\n",
       "    <tr>\n",
       "      <th>2</th>\n",
       "      <td>Great location! I have stayed at this hotel on...</td>\n",
       "      <td>2019/08/20</td>\n",
       "      <td>Georgia</td>\n",
       "    </tr>\n",
       "    <tr>\n",
       "      <th>3</th>\n",
       "      <td>The hotel was adequate for my stay. The strips...</td>\n",
       "      <td>2019/08/20</td>\n",
       "      <td>NaN</td>\n",
       "    </tr>\n",
       "    <tr>\n",
       "      <th>4</th>\n",
       "      <td>Great location, room was large and spacious. P...</td>\n",
       "      <td>2019/08/19</td>\n",
       "      <td>Palm Harbor</td>\n",
       "    </tr>\n",
       "  </tbody>\n",
       "</table>\n",
       "</div>"
      ],
      "text/plain": [
       "                                              Review        date     Location\n",
       "0  I was very impressed with the resort.\\n Great ...  2019/08/20    Sebastian\n",
       "1  The rooms were nice the outside needs work als...  2019/08/20  Los Angeles\n",
       "2  Great location! I have stayed at this hotel on...  2019/08/20      Georgia\n",
       "3  The hotel was adequate for my stay. The strips...  2019/08/20          NaN\n",
       "4  Great location, room was large and spacious. P...  2019/08/19  Palm Harbor"
      ]
     },
     "execution_count": 418,
     "metadata": {},
     "output_type": "execute_result"
    }
   ],
   "source": [
    "Data1.head()"
   ]
  },
  {
   "cell_type": "code",
   "execution_count": 419,
   "metadata": {},
   "outputs": [
    {
     "data": {
      "text/plain": [
       "(6448, 3)"
      ]
     },
     "execution_count": 419,
     "metadata": {},
     "output_type": "execute_result"
    }
   ],
   "source": [
    "Data.shape"
   ]
  },
  {
   "cell_type": "code",
   "execution_count": 420,
   "metadata": {},
   "outputs": [
    {
     "data": {
      "text/plain": [
       "Review      object\n",
       "date        object\n",
       "Location    object\n",
       "dtype: object"
      ]
     },
     "execution_count": 420,
     "metadata": {},
     "output_type": "execute_result"
    }
   ],
   "source": [
    "Data1.dtypes"
   ]
  },
  {
   "cell_type": "markdown",
   "metadata": {},
   "source": [
    "Finding All Duplicates Values From Data"
   ]
  },
  {
   "cell_type": "code",
   "execution_count": 421,
   "metadata": {},
   "outputs": [
    {
     "data": {
      "text/html": [
       "<div>\n",
       "<style scoped>\n",
       "    .dataframe tbody tr th:only-of-type {\n",
       "        vertical-align: middle;\n",
       "    }\n",
       "\n",
       "    .dataframe tbody tr th {\n",
       "        vertical-align: top;\n",
       "    }\n",
       "\n",
       "    .dataframe thead th {\n",
       "        text-align: right;\n",
       "    }\n",
       "</style>\n",
       "<table border=\"1\" class=\"dataframe\">\n",
       "  <thead>\n",
       "    <tr style=\"text-align: right;\">\n",
       "      <th></th>\n",
       "      <th>Review</th>\n",
       "      <th>date</th>\n",
       "      <th>Location</th>\n",
       "    </tr>\n",
       "  </thead>\n",
       "  <tbody>\n",
       "    <tr>\n",
       "      <th>2366</th>\n",
       "      <td>NaN</td>\n",
       "      <td>2019/2/22</td>\n",
       "      <td>NaN</td>\n",
       "    </tr>\n",
       "    <tr>\n",
       "      <th>2663</th>\n",
       "      <td>NaN</td>\n",
       "      <td>2019/01/28</td>\n",
       "      <td>NaN</td>\n",
       "    </tr>\n",
       "    <tr>\n",
       "      <th>2670</th>\n",
       "      <td>NaN</td>\n",
       "      <td>2019/01/28</td>\n",
       "      <td>NaN</td>\n",
       "    </tr>\n",
       "    <tr>\n",
       "      <th>2671</th>\n",
       "      <td>NaN</td>\n",
       "      <td>2019/01/28</td>\n",
       "      <td>NaN</td>\n",
       "    </tr>\n",
       "  </tbody>\n",
       "</table>\n",
       "</div>"
      ],
      "text/plain": [
       "     Review        date Location\n",
       "2366    NaN   2019/2/22      NaN\n",
       "2663    NaN  2019/01/28      NaN\n",
       "2670    NaN  2019/01/28      NaN\n",
       "2671    NaN  2019/01/28      NaN"
      ]
     },
     "execution_count": 421,
     "metadata": {},
     "output_type": "execute_result"
    }
   ],
   "source": [
    "Data1[Data1.duplicated()]"
   ]
  },
  {
   "cell_type": "code",
   "execution_count": 422,
   "metadata": {},
   "outputs": [
    {
     "data": {
      "text/plain": [
       "4"
      ]
     },
     "execution_count": 422,
     "metadata": {},
     "output_type": "execute_result"
    }
   ],
   "source": [
    "len(Data1[Data1.duplicated()])"
   ]
  },
  {
   "cell_type": "markdown",
   "metadata": {},
   "source": [
    "Finding All the Null Values From The Data"
   ]
  },
  {
   "cell_type": "code",
   "execution_count": 423,
   "metadata": {},
   "outputs": [
    {
     "data": {
      "text/plain": [
       "Review        55\n",
       "date           0\n",
       "Location    4737\n",
       "dtype: int64"
      ]
     },
     "execution_count": 423,
     "metadata": {},
     "output_type": "execute_result"
    }
   ],
   "source": [
    "Data1.isnull().sum()"
   ]
  },
  {
   "cell_type": "markdown",
   "metadata": {},
   "source": [
    "Missing Values In both Review And Location 49"
   ]
  },
  {
   "cell_type": "code",
   "execution_count": 424,
   "metadata": {},
   "outputs": [
    {
     "data": {
      "text/plain": [
       "49"
      ]
     },
     "execution_count": 424,
     "metadata": {},
     "output_type": "execute_result"
    }
   ],
   "source": [
    "len(Data1[(Data1['Review'].isnull()) & (Data1['Location'].isnull())])\n"
   ]
  },
  {
   "cell_type": "markdown",
   "metadata": {},
   "source": [
    "Missing Value In only Review"
   ]
  },
  {
   "cell_type": "code",
   "execution_count": 425,
   "metadata": {},
   "outputs": [
    {
     "data": {
      "text/plain": [
       "55"
      ]
     },
     "execution_count": 425,
     "metadata": {},
     "output_type": "execute_result"
    }
   ],
   "source": [
    "len(Data1[Data1['Review'].isnull()])"
   ]
  },
  {
   "cell_type": "markdown",
   "metadata": {},
   "source": [
    "Drop All the Null value on the column Review"
   ]
  },
  {
   "cell_type": "code",
   "execution_count": 426,
   "metadata": {},
   "outputs": [],
   "source": [
    "Data1 = Data1.dropna(subset=['Review'])\n"
   ]
  },
  {
   "cell_type": "code",
   "execution_count": 427,
   "metadata": {},
   "outputs": [
    {
     "data": {
      "text/html": [
       "<div>\n",
       "<style scoped>\n",
       "    .dataframe tbody tr th:only-of-type {\n",
       "        vertical-align: middle;\n",
       "    }\n",
       "\n",
       "    .dataframe tbody tr th {\n",
       "        vertical-align: top;\n",
       "    }\n",
       "\n",
       "    .dataframe thead th {\n",
       "        text-align: right;\n",
       "    }\n",
       "</style>\n",
       "<table border=\"1\" class=\"dataframe\">\n",
       "  <thead>\n",
       "    <tr style=\"text-align: right;\">\n",
       "      <th></th>\n",
       "      <th>Review</th>\n",
       "      <th>date</th>\n",
       "      <th>Location</th>\n",
       "    </tr>\n",
       "  </thead>\n",
       "  <tbody>\n",
       "    <tr>\n",
       "      <th>0</th>\n",
       "      <td>I was very impressed with the resort.\\n Great ...</td>\n",
       "      <td>2019/08/20</td>\n",
       "      <td>Sebastian</td>\n",
       "    </tr>\n",
       "    <tr>\n",
       "      <th>1</th>\n",
       "      <td>The rooms were nice the outside needs work als...</td>\n",
       "      <td>2019/08/20</td>\n",
       "      <td>Los Angeles</td>\n",
       "    </tr>\n",
       "    <tr>\n",
       "      <th>2</th>\n",
       "      <td>Great location! I have stayed at this hotel on...</td>\n",
       "      <td>2019/08/20</td>\n",
       "      <td>Georgia</td>\n",
       "    </tr>\n",
       "    <tr>\n",
       "      <th>3</th>\n",
       "      <td>The hotel was adequate for my stay. The strips...</td>\n",
       "      <td>2019/08/20</td>\n",
       "      <td>NaN</td>\n",
       "    </tr>\n",
       "    <tr>\n",
       "      <th>4</th>\n",
       "      <td>Great location, room was large and spacious. P...</td>\n",
       "      <td>2019/08/19</td>\n",
       "      <td>Palm Harbor</td>\n",
       "    </tr>\n",
       "    <tr>\n",
       "      <th>...</th>\n",
       "      <td>...</td>\n",
       "      <td>...</td>\n",
       "      <td>...</td>\n",
       "    </tr>\n",
       "    <tr>\n",
       "      <th>6443</th>\n",
       "      <td>·the staff were all so friendly. frank, the ch...</td>\n",
       "      <td>2019/07/12</td>\n",
       "      <td>United States of America</td>\n",
       "    </tr>\n",
       "    <tr>\n",
       "      <th>6444</th>\n",
       "      <td>·the internet barely worked or didn't work</td>\n",
       "      <td>2019/07/12</td>\n",
       "      <td>United States of America</td>\n",
       "    </tr>\n",
       "    <tr>\n",
       "      <th>6445</th>\n",
       "      <td>·the location was great.\\n \\n \\n \\n \\n ·the be...</td>\n",
       "      <td>2019/07/10</td>\n",
       "      <td>United States of America</td>\n",
       "    </tr>\n",
       "    <tr>\n",
       "      <th>6446</th>\n",
       "      <td>·we were early for check in and the staff was ...</td>\n",
       "      <td>2019/07/10</td>\n",
       "      <td>United States of America</td>\n",
       "    </tr>\n",
       "    <tr>\n",
       "      <th>6447</th>\n",
       "      <td>·staff, free coffee, location and activities.\\...</td>\n",
       "      <td>2019/07/10</td>\n",
       "      <td>United States of America</td>\n",
       "    </tr>\n",
       "  </tbody>\n",
       "</table>\n",
       "<p>6393 rows × 3 columns</p>\n",
       "</div>"
      ],
      "text/plain": [
       "                                                 Review        date  \\\n",
       "0     I was very impressed with the resort.\\n Great ...  2019/08/20   \n",
       "1     The rooms were nice the outside needs work als...  2019/08/20   \n",
       "2     Great location! I have stayed at this hotel on...  2019/08/20   \n",
       "3     The hotel was adequate for my stay. The strips...  2019/08/20   \n",
       "4     Great location, room was large and spacious. P...  2019/08/19   \n",
       "...                                                 ...         ...   \n",
       "6443  ·the staff were all so friendly. frank, the ch...  2019/07/12   \n",
       "6444         ·the internet barely worked or didn't work  2019/07/12   \n",
       "6445  ·the location was great.\\n \\n \\n \\n \\n ·the be...  2019/07/10   \n",
       "6446  ·we were early for check in and the staff was ...  2019/07/10   \n",
       "6447  ·staff, free coffee, location and activities.\\...  2019/07/10   \n",
       "\n",
       "                      Location  \n",
       "0                    Sebastian  \n",
       "1                  Los Angeles  \n",
       "2                      Georgia  \n",
       "3                          NaN  \n",
       "4                  Palm Harbor  \n",
       "...                        ...  \n",
       "6443  United States of America  \n",
       "6444  United States of America  \n",
       "6445  United States of America  \n",
       "6446  United States of America  \n",
       "6447  United States of America  \n",
       "\n",
       "[6393 rows x 3 columns]"
      ]
     },
     "execution_count": 427,
     "metadata": {},
     "output_type": "execute_result"
    }
   ],
   "source": [
    "Data1"
   ]
  },
  {
   "cell_type": "code",
   "execution_count": 428,
   "metadata": {},
   "outputs": [
    {
     "data": {
      "text/plain": [
       "Review         0\n",
       "date           0\n",
       "Location    4688\n",
       "dtype: int64"
      ]
     },
     "execution_count": 428,
     "metadata": {},
     "output_type": "execute_result"
    }
   ],
   "source": [
    "Data1.isnull().sum()"
   ]
  },
  {
   "cell_type": "code",
   "execution_count": 429,
   "metadata": {},
   "outputs": [
    {
     "data": {
      "text/plain": [
       "(6393, 3)"
      ]
     },
     "execution_count": 429,
     "metadata": {},
     "output_type": "execute_result"
    }
   ],
   "source": [
    "Data1.shape"
   ]
  },
  {
   "cell_type": "markdown",
   "metadata": {},
   "source": [
    "4737 Null Values In The  Locathin Column We Can Not Drop It Becuse The Amout Of the Data is Very Large"
   ]
  },
  {
   "cell_type": "code",
   "execution_count": 430,
   "metadata": {},
   "outputs": [
    {
     "data": {
      "text/plain": [
       "4688"
      ]
     },
     "execution_count": 430,
     "metadata": {},
     "output_type": "execute_result"
    }
   ],
   "source": [
    "Data1['Location'].isnull().sum()"
   ]
  },
  {
   "cell_type": "markdown",
   "metadata": {},
   "source": [
    "The Data type of the Date is in Object convert It Into Pandas Date and Time"
   ]
  },
  {
   "cell_type": "code",
   "execution_count": 431,
   "metadata": {},
   "outputs": [
    {
     "data": {
      "text/plain": [
       "Review      object\n",
       "date        object\n",
       "Location    object\n",
       "dtype: object"
      ]
     },
     "execution_count": 431,
     "metadata": {},
     "output_type": "execute_result"
    }
   ],
   "source": [
    "Data1.dtypes"
   ]
  },
  {
   "cell_type": "code",
   "execution_count": 432,
   "metadata": {},
   "outputs": [
    {
     "data": {
      "text/html": [
       "<div>\n",
       "<style scoped>\n",
       "    .dataframe tbody tr th:only-of-type {\n",
       "        vertical-align: middle;\n",
       "    }\n",
       "\n",
       "    .dataframe tbody tr th {\n",
       "        vertical-align: top;\n",
       "    }\n",
       "\n",
       "    .dataframe thead th {\n",
       "        text-align: right;\n",
       "    }\n",
       "</style>\n",
       "<table border=\"1\" class=\"dataframe\">\n",
       "  <thead>\n",
       "    <tr style=\"text-align: right;\">\n",
       "      <th></th>\n",
       "      <th>Review</th>\n",
       "      <th>date</th>\n",
       "      <th>Location</th>\n",
       "    </tr>\n",
       "  </thead>\n",
       "  <tbody>\n",
       "    <tr>\n",
       "      <th>0</th>\n",
       "      <td>I was very impressed with the resort.\\n Great ...</td>\n",
       "      <td>2019/08/20</td>\n",
       "      <td>Sebastian</td>\n",
       "    </tr>\n",
       "  </tbody>\n",
       "</table>\n",
       "</div>"
      ],
      "text/plain": [
       "                                              Review        date   Location\n",
       "0  I was very impressed with the resort.\\n Great ...  2019/08/20  Sebastian"
      ]
     },
     "execution_count": 432,
     "metadata": {},
     "output_type": "execute_result"
    }
   ],
   "source": [
    "Data1.head(1)"
   ]
  },
  {
   "cell_type": "code",
   "execution_count": 433,
   "metadata": {},
   "outputs": [
    {
     "data": {
      "text/plain": [
       "array(['2019/08/20', '2019/08/19', '2019/08/18', '2019/08/17',\n",
       "       '2019/08/16', '2019/08/15', '2019/08/14', '2019/08/13',\n",
       "       '2019/08/12', '2019/08/11', '2019/08/10', '2019/08/09',\n",
       "       '2019/08/08', '2019/08/07', '2019/08/06', '2019/08/05',\n",
       "       '2019/08/04', '2019/08/03', '2019/08/02', '2019/08/01',\n",
       "       '2019/07/31', '2019/07/30', '2019/07/29', '2019/07/28',\n",
       "       '2019/07/27', '2019/07/26', '2019/07/25', '2019/07/24',\n",
       "       '2019/07/23', '2019/07/22', '2019/07/21', '2019/07/20',\n",
       "       '2019/07/19', '2019/07/18', '2019/07/17', '2019/07/16',\n",
       "       '2019/07/15', '2019/07/14', '2019/07/13', '2019/07/12',\n",
       "       '2019/07/11', '2019/07/10', '2019/07/09', '2019/07/08',\n",
       "       '2019/07/07', '2019/07/06', '2019/07/05', '2019/07/04',\n",
       "       '2019/07/03', '2019/07/02', '2019/07/01', '2019/06/30',\n",
       "       '2019/06/29', '2019/06/28', '2019/06/27', '2019/06/26',\n",
       "       '2019/06/25', '2019/06/24', '2019/06/23', '2019/06/22',\n",
       "       '2019/06/21', '2019/06/20', '2019/06/19', '2019/06/18',\n",
       "       '2019/06/17', '2019/06/16', '2019/06/15', '2019/06/14',\n",
       "       '2019/06/13', '2019/06/12', '2019/06/11', '2019/06/10',\n",
       "       '2019/06/09', '2019/06/08', '2019/06/07', '2019/06/06',\n",
       "       '2019/06/05', '2019/06/04', '2019/06/03', '2019/06/02',\n",
       "       '2019/06/01', '2019/05/31', '2019/05/30', '2019/05/29',\n",
       "       '2019/05/28', '2019/05/27', '2019/05/26', '2019/05/25',\n",
       "       '2019/05/24', '2019/05/23', '2019/05/22', '2019/05/21',\n",
       "       '2019/05/20', '2019/05/19', '2019/05/18', '2019/05/17',\n",
       "       '2019/05/16', '2019/05/15', '2019/05/14', '2019/05/13',\n",
       "       '2019/05/12', '2019/05/11', '2019/05/10', '2019/05/09',\n",
       "       '2019/05/08', '2019/05/07', '2019/05/06', '2019/05/05',\n",
       "       '2019/05/04', '2019/05/03', '2019/05/02', '2019/05/01',\n",
       "       '2019/04/30', '2019/04/29', '2019/04/28', '2019/04/27',\n",
       "       '2019/04/26', '2019/04/25', '2019/04/24', '2019/04/23',\n",
       "       '2019/04/22', '2019/04/21', '2019/04/20', '2019/04/19',\n",
       "       '2019/04/18', '2019/04/17', '2019/04/16', '2019/04/15',\n",
       "       '2019/04/14', '2019/04/13', '2019/04/12', '2019/04/11',\n",
       "       '2019/04/10', '2019/04/09', '2019/04/08', '2019/04/07',\n",
       "       '2019/04/06', '2019/04/05', '2019/04/04', '2019/04/03',\n",
       "       '2019/04/02', '2019/04/01', '2019/03/31', '2019/03/30',\n",
       "       '2019/03/29', '2019/03/28', '2019/03/27', '2019/03/26',\n",
       "       '2019/03/25', '2019/03/24', '2019/03/23', '2019/03/22',\n",
       "       '2019/03/21', '2019/03/20', '2019/03/19', '2019/03/18',\n",
       "       '2019/03/17', '2019/03/16', '2019/03/15', '2019/03/14',\n",
       "       '2019/03/13', '2019/03/12', '2019/03/11', '2019/03/10',\n",
       "       '2019/03/09', '2019/03/08', '2019/03/07', '2019/03/06',\n",
       "       '2019/03/05', '2019/03/04', '2019/3/4', '2019/3/3', '2019/3/2',\n",
       "       '2019/3/1', '2019/2/28', '2019/2/27', '2019/2/26', '2019/2/25',\n",
       "       '2019/2/24', '2019/2/23', '2019/2/22', '2019/2/21', '2019/2/20',\n",
       "       '2019/2/19', '2019/2/18', '2019/2/17', '2019/2/16', '2019/2/15',\n",
       "       '2019/2/14', '2019/2/13', '2019/2/12', '2019/2/11', '2019/2/10',\n",
       "       '2019/2/9', '2019/2/8', '2019/2/7', '2019/2/6', '2019/2/5',\n",
       "       '2019/2/4', '2019/2/3', '2019/2/2', '2019/2/1', '2019/1/31',\n",
       "       '2019/1/30', '2019/01/30', '2019/01/29', '2019/01/28',\n",
       "       '2019/01/27', '2019/01/26', '2019/01/25', '2019/01/24',\n",
       "       '2019/01/23', '2019/01/22', '2019/1/22', '2019/1/21', '2019/1/20',\n",
       "       '2019/1/19', '2019/1/18', '2019/1/17', '2019/1/16', '2019/1/15',\n",
       "       '2019/1/14', '2019/1/13', '2019/1/12', '2019/1/11', '2019/1/10',\n",
       "       '2019/1/9', '2019/1/8', '2019/1/7', '2019/1/6', '2019/1/5',\n",
       "       '2019/1/4', '2019/1/3', '2019/01/03', '2019/01/02', '2019/01/01',\n",
       "       '2018/12/31', '2018/12/30', '2018/12/29', '2018/12/28',\n",
       "       '2018/12/27', '2018/12/26', '2018/12/25', '2018/12/24',\n",
       "       '2018/12/23', '2018/12/22', '2018/12/21', '2018/12/20',\n",
       "       '2018/12/19', '2018/12/18', '2018/12/17', '2018/12/16',\n",
       "       '2018/12/15', '2018/12/14', '2018/12/13', '2018/12/12',\n",
       "       '2018/12/11', '2018/12/10', '2018/12/09', '2018/12/08',\n",
       "       '2018/12/07', '2018/12/06', '2018/12/05', '2018/12/04',\n",
       "       '2018/12/03', '2018/12/02', '2018/12/01', '2018/11/30',\n",
       "       '2018/11/29', '2018/11/28', '2018/11/27', '2018/11/26',\n",
       "       '2018/11/25', '2018/11/24', '2018/11/23', '2018/11/22',\n",
       "       '2018/11/21', '2018/11/20', '2018/11/19', '2018/11/18',\n",
       "       '2018/11/17', '2018/11/16', '2018/11/15', '2018/11/14',\n",
       "       '2018/11/13', '2018/11/12', '2018/11/11', '2018/11/10',\n",
       "       '2018/11/09', '2018/11/08', '2018/11/07', '2018/11/06',\n",
       "       '2018/11/05', '2018/11/04', '2018/11/03', '2018/11/02',\n",
       "       '2018/11/01', '2018/10/31', '2018/10/30', '2018/10/29',\n",
       "       '2018/10/28', '2018/10/27', '2018/10/26', '2018/10/25',\n",
       "       '2018/10/24', '2018/10/23', '2018/10/22', '2018/10/21',\n",
       "       '2018/10/20', '2018/10/19', '2018/10/18', '2018/10/17',\n",
       "       '2018/10/16', '2018/10/15', '2018/10/14', '2018/10/13',\n",
       "       '2018/10/12', '2018/10/11', '2018/10/10', '2018/10/09',\n",
       "       '2018/10/08', '2018/10/07', '2018/10/06', '2018/10/05',\n",
       "       '2018/10/04', '2018/10/03', '2018/10/02', '2018/10/01',\n",
       "       '2018/09/30', '2018/09/29', '2018/09/28', '2018/09/27',\n",
       "       '2018/09/26', '2018/09/25', '2018/09/24', '2018/09/23',\n",
       "       '2018/09/22', '2018/09/21', '2018/09/20', '2018/09/19',\n",
       "       '2018/09/18', '2018/09/17', '2018/09/16', '2018/09/15',\n",
       "       '2018/09/14', '2018/09/13', '2018/09/12', '2018/09/11',\n",
       "       '2018/09/10', '2018/09/09', '2018/09/08', '2018/09/07',\n",
       "       '2018/09/06', '2018/09/05', '2018/09/04', '2018/09/03',\n",
       "       '2018/09/02', '2018/09/01', '2018/08/31', '2018/08/30',\n",
       "       '2018/08/29', '2018/08/28', '2018/08/27', '2018/08/26',\n",
       "       '2018/08/25', '2018/08/24', '2018/08/23', '2018/08/22',\n",
       "       '2018/08/21', '2018/08/20', '2018/08/19', '2018/08/18',\n",
       "       '2018/08/17', '2018/08/16', '2018/08/15', '2018/08/14',\n",
       "       '2018/08/13', '2018/08/12', '2018/08/11', '2018/08/10',\n",
       "       '2018/08/09', '2018/08/08', '2018/08/07', '2018/08/06',\n",
       "       '2018/08/05', '2018/08/04', '2018/08/03', '2018/08/02',\n",
       "       '2018/08/01', '2019/02/01', '2019/03/01', 'Dec 2018', 'Aug 2018',\n",
       "       'Jul 2019', 'Sep 2018', 'Oct 2018', 'Jan 2019', 'Feb 2019',\n",
       "       'Apr 2019', 'Mar 2019', 'May 2019', 'Jun 2019', 'Nov 2018'],\n",
       "      dtype=object)"
      ]
     },
     "execution_count": 433,
     "metadata": {},
     "output_type": "execute_result"
    }
   ],
   "source": [
    "Data1['date'].unique()"
   ]
  },
  {
   "cell_type": "code",
   "execution_count": 434,
   "metadata": {},
   "outputs": [],
   "source": [
    "date_mapping = {\n",
    "    'Dec 2018': '2018/12',\n",
    "    'Aug 2018': '2018/08',\n",
    "    'Jul 2019': '2019/07',\n",
    "    'Sep 2018': '2018/09',\n",
    "    'Oct 2018': '2018/10',\n",
    "    'Jan 2019': '2019/01',\n",
    "    'Feb 2019': '2019/02',\n",
    "    'Apr 2019': '2019/04',\n",
    "    'Mar 2019': '2019/03',\n",
    "    'May 2019': '2019/05',\n",
    "    'Jun 2019': '2019/06',\n",
    "    'Nov 2018': '2018/11'\n",
    "}\n",
    "\n",
    "# Replace worded dates using the mapping\n",
    "Data1['date'] = Data1['date'].astype(str).replace(date_mapping)\n"
   ]
  },
  {
   "cell_type": "code",
   "execution_count": 435,
   "metadata": {},
   "outputs": [
    {
     "data": {
      "text/plain": [
       "Review      object\n",
       "date        object\n",
       "Location    object\n",
       "dtype: object"
      ]
     },
     "execution_count": 435,
     "metadata": {},
     "output_type": "execute_result"
    }
   ],
   "source": [
    "Data1.dtypes"
   ]
  },
  {
   "cell_type": "code",
   "execution_count": 436,
   "metadata": {},
   "outputs": [
    {
     "data": {
      "text/plain": [
       "array(['2019/08/20', '2019/08/19', '2019/08/18', '2019/08/17',\n",
       "       '2019/08/16', '2019/08/15', '2019/08/14', '2019/08/13',\n",
       "       '2019/08/12', '2019/08/11', '2019/08/10', '2019/08/09',\n",
       "       '2019/08/08', '2019/08/07', '2019/08/06', '2019/08/05',\n",
       "       '2019/08/04', '2019/08/03', '2019/08/02', '2019/08/01',\n",
       "       '2019/07/31', '2019/07/30', '2019/07/29', '2019/07/28',\n",
       "       '2019/07/27', '2019/07/26', '2019/07/25', '2019/07/24',\n",
       "       '2019/07/23', '2019/07/22', '2019/07/21', '2019/07/20',\n",
       "       '2019/07/19', '2019/07/18', '2019/07/17', '2019/07/16',\n",
       "       '2019/07/15', '2019/07/14', '2019/07/13', '2019/07/12',\n",
       "       '2019/07/11', '2019/07/10', '2019/07/09', '2019/07/08',\n",
       "       '2019/07/07', '2019/07/06', '2019/07/05', '2019/07/04',\n",
       "       '2019/07/03', '2019/07/02', '2019/07/01', '2019/06/30',\n",
       "       '2019/06/29', '2019/06/28', '2019/06/27', '2019/06/26',\n",
       "       '2019/06/25', '2019/06/24', '2019/06/23', '2019/06/22',\n",
       "       '2019/06/21', '2019/06/20', '2019/06/19', '2019/06/18',\n",
       "       '2019/06/17', '2019/06/16', '2019/06/15', '2019/06/14',\n",
       "       '2019/06/13', '2019/06/12', '2019/06/11', '2019/06/10',\n",
       "       '2019/06/09', '2019/06/08', '2019/06/07', '2019/06/06',\n",
       "       '2019/06/05', '2019/06/04', '2019/06/03', '2019/06/02',\n",
       "       '2019/06/01', '2019/05/31', '2019/05/30', '2019/05/29',\n",
       "       '2019/05/28', '2019/05/27', '2019/05/26', '2019/05/25',\n",
       "       '2019/05/24', '2019/05/23', '2019/05/22', '2019/05/21',\n",
       "       '2019/05/20', '2019/05/19', '2019/05/18', '2019/05/17',\n",
       "       '2019/05/16', '2019/05/15', '2019/05/14', '2019/05/13',\n",
       "       '2019/05/12', '2019/05/11', '2019/05/10', '2019/05/09',\n",
       "       '2019/05/08', '2019/05/07', '2019/05/06', '2019/05/05',\n",
       "       '2019/05/04', '2019/05/03', '2019/05/02', '2019/05/01',\n",
       "       '2019/04/30', '2019/04/29', '2019/04/28', '2019/04/27',\n",
       "       '2019/04/26', '2019/04/25', '2019/04/24', '2019/04/23',\n",
       "       '2019/04/22', '2019/04/21', '2019/04/20', '2019/04/19',\n",
       "       '2019/04/18', '2019/04/17', '2019/04/16', '2019/04/15',\n",
       "       '2019/04/14', '2019/04/13', '2019/04/12', '2019/04/11',\n",
       "       '2019/04/10', '2019/04/09', '2019/04/08', '2019/04/07',\n",
       "       '2019/04/06', '2019/04/05', '2019/04/04', '2019/04/03',\n",
       "       '2019/04/02', '2019/04/01', '2019/03/31', '2019/03/30',\n",
       "       '2019/03/29', '2019/03/28', '2019/03/27', '2019/03/26',\n",
       "       '2019/03/25', '2019/03/24', '2019/03/23', '2019/03/22',\n",
       "       '2019/03/21', '2019/03/20', '2019/03/19', '2019/03/18',\n",
       "       '2019/03/17', '2019/03/16', '2019/03/15', '2019/03/14',\n",
       "       '2019/03/13', '2019/03/12', '2019/03/11', '2019/03/10',\n",
       "       '2019/03/09', '2019/03/08', '2019/03/07', '2019/03/06',\n",
       "       '2019/03/05', '2019/03/04', '2019/3/4', '2019/3/3', '2019/3/2',\n",
       "       '2019/3/1', '2019/2/28', '2019/2/27', '2019/2/26', '2019/2/25',\n",
       "       '2019/2/24', '2019/2/23', '2019/2/22', '2019/2/21', '2019/2/20',\n",
       "       '2019/2/19', '2019/2/18', '2019/2/17', '2019/2/16', '2019/2/15',\n",
       "       '2019/2/14', '2019/2/13', '2019/2/12', '2019/2/11', '2019/2/10',\n",
       "       '2019/2/9', '2019/2/8', '2019/2/7', '2019/2/6', '2019/2/5',\n",
       "       '2019/2/4', '2019/2/3', '2019/2/2', '2019/2/1', '2019/1/31',\n",
       "       '2019/1/30', '2019/01/30', '2019/01/29', '2019/01/28',\n",
       "       '2019/01/27', '2019/01/26', '2019/01/25', '2019/01/24',\n",
       "       '2019/01/23', '2019/01/22', '2019/1/22', '2019/1/21', '2019/1/20',\n",
       "       '2019/1/19', '2019/1/18', '2019/1/17', '2019/1/16', '2019/1/15',\n",
       "       '2019/1/14', '2019/1/13', '2019/1/12', '2019/1/11', '2019/1/10',\n",
       "       '2019/1/9', '2019/1/8', '2019/1/7', '2019/1/6', '2019/1/5',\n",
       "       '2019/1/4', '2019/1/3', '2019/01/03', '2019/01/02', '2019/01/01',\n",
       "       '2018/12/31', '2018/12/30', '2018/12/29', '2018/12/28',\n",
       "       '2018/12/27', '2018/12/26', '2018/12/25', '2018/12/24',\n",
       "       '2018/12/23', '2018/12/22', '2018/12/21', '2018/12/20',\n",
       "       '2018/12/19', '2018/12/18', '2018/12/17', '2018/12/16',\n",
       "       '2018/12/15', '2018/12/14', '2018/12/13', '2018/12/12',\n",
       "       '2018/12/11', '2018/12/10', '2018/12/09', '2018/12/08',\n",
       "       '2018/12/07', '2018/12/06', '2018/12/05', '2018/12/04',\n",
       "       '2018/12/03', '2018/12/02', '2018/12/01', '2018/11/30',\n",
       "       '2018/11/29', '2018/11/28', '2018/11/27', '2018/11/26',\n",
       "       '2018/11/25', '2018/11/24', '2018/11/23', '2018/11/22',\n",
       "       '2018/11/21', '2018/11/20', '2018/11/19', '2018/11/18',\n",
       "       '2018/11/17', '2018/11/16', '2018/11/15', '2018/11/14',\n",
       "       '2018/11/13', '2018/11/12', '2018/11/11', '2018/11/10',\n",
       "       '2018/11/09', '2018/11/08', '2018/11/07', '2018/11/06',\n",
       "       '2018/11/05', '2018/11/04', '2018/11/03', '2018/11/02',\n",
       "       '2018/11/01', '2018/10/31', '2018/10/30', '2018/10/29',\n",
       "       '2018/10/28', '2018/10/27', '2018/10/26', '2018/10/25',\n",
       "       '2018/10/24', '2018/10/23', '2018/10/22', '2018/10/21',\n",
       "       '2018/10/20', '2018/10/19', '2018/10/18', '2018/10/17',\n",
       "       '2018/10/16', '2018/10/15', '2018/10/14', '2018/10/13',\n",
       "       '2018/10/12', '2018/10/11', '2018/10/10', '2018/10/09',\n",
       "       '2018/10/08', '2018/10/07', '2018/10/06', '2018/10/05',\n",
       "       '2018/10/04', '2018/10/03', '2018/10/02', '2018/10/01',\n",
       "       '2018/09/30', '2018/09/29', '2018/09/28', '2018/09/27',\n",
       "       '2018/09/26', '2018/09/25', '2018/09/24', '2018/09/23',\n",
       "       '2018/09/22', '2018/09/21', '2018/09/20', '2018/09/19',\n",
       "       '2018/09/18', '2018/09/17', '2018/09/16', '2018/09/15',\n",
       "       '2018/09/14', '2018/09/13', '2018/09/12', '2018/09/11',\n",
       "       '2018/09/10', '2018/09/09', '2018/09/08', '2018/09/07',\n",
       "       '2018/09/06', '2018/09/05', '2018/09/04', '2018/09/03',\n",
       "       '2018/09/02', '2018/09/01', '2018/08/31', '2018/08/30',\n",
       "       '2018/08/29', '2018/08/28', '2018/08/27', '2018/08/26',\n",
       "       '2018/08/25', '2018/08/24', '2018/08/23', '2018/08/22',\n",
       "       '2018/08/21', '2018/08/20', '2018/08/19', '2018/08/18',\n",
       "       '2018/08/17', '2018/08/16', '2018/08/15', '2018/08/14',\n",
       "       '2018/08/13', '2018/08/12', '2018/08/11', '2018/08/10',\n",
       "       '2018/08/09', '2018/08/08', '2018/08/07', '2018/08/06',\n",
       "       '2018/08/05', '2018/08/04', '2018/08/03', '2018/08/02',\n",
       "       '2018/08/01', '2019/02/01', '2019/03/01', '2018/12', '2018/08',\n",
       "       '2019/07', '2018/09', '2018/10', '2019/01', '2019/02', '2019/04',\n",
       "       '2019/03', '2019/05', '2019/06', '2018/11'], dtype=object)"
      ]
     },
     "execution_count": 436,
     "metadata": {},
     "output_type": "execute_result"
    }
   ],
   "source": [
    "Data1['date'].unique()"
   ]
  },
  {
   "cell_type": "code",
   "execution_count": 437,
   "metadata": {},
   "outputs": [],
   "source": [
    "Data1['Year And Month']=Data1['date'].str.split('/').str[:2].str.join('/')"
   ]
  },
  {
   "cell_type": "code",
   "execution_count": 438,
   "metadata": {},
   "outputs": [
    {
     "data": {
      "text/html": [
       "<div>\n",
       "<style scoped>\n",
       "    .dataframe tbody tr th:only-of-type {\n",
       "        vertical-align: middle;\n",
       "    }\n",
       "\n",
       "    .dataframe tbody tr th {\n",
       "        vertical-align: top;\n",
       "    }\n",
       "\n",
       "    .dataframe thead th {\n",
       "        text-align: right;\n",
       "    }\n",
       "</style>\n",
       "<table border=\"1\" class=\"dataframe\">\n",
       "  <thead>\n",
       "    <tr style=\"text-align: right;\">\n",
       "      <th></th>\n",
       "      <th>Review</th>\n",
       "      <th>date</th>\n",
       "      <th>Location</th>\n",
       "      <th>Year And Month</th>\n",
       "    </tr>\n",
       "  </thead>\n",
       "  <tbody>\n",
       "    <tr>\n",
       "      <th>1092</th>\n",
       "      <td>we paid for a room and they said thier compute...</td>\n",
       "      <td>2019/05/07</td>\n",
       "      <td>NaN</td>\n",
       "      <td>2019/05</td>\n",
       "    </tr>\n",
       "    <tr>\n",
       "      <th>1379</th>\n",
       "      <td>It was quite comfortable. The staff was always...</td>\n",
       "      <td>2019/04/21</td>\n",
       "      <td>NaN</td>\n",
       "      <td>2019/04</td>\n",
       "    </tr>\n",
       "    <tr>\n",
       "      <th>2605</th>\n",
       "      <td>IT was good.. I was there for business and wan...</td>\n",
       "      <td>2019/2/1</td>\n",
       "      <td>NaN</td>\n",
       "      <td>2019/2</td>\n",
       "    </tr>\n",
       "    <tr>\n",
       "      <th>6432</th>\n",
       "      <td>·very good location especially in relation to ...</td>\n",
       "      <td>2019/07/14</td>\n",
       "      <td>South Africa</td>\n",
       "      <td>2019/07</td>\n",
       "    </tr>\n",
       "    <tr>\n",
       "      <th>3323</th>\n",
       "      <td>Excellent experience upgraded to a balcony gre...</td>\n",
       "      <td>2018/12/19</td>\n",
       "      <td>NaN</td>\n",
       "      <td>2018/12</td>\n",
       "    </tr>\n",
       "    <tr>\n",
       "      <th>6276</th>\n",
       "      <td>·comfy beds\\n big rooms\\n friendly service \\n ...</td>\n",
       "      <td>2019/08/18</td>\n",
       "      <td>United Kingdom</td>\n",
       "      <td>2019/08</td>\n",
       "    </tr>\n",
       "    <tr>\n",
       "      <th>228</th>\n",
       "      <td>The layout and location are great. They offer ...</td>\n",
       "      <td>2019/07/30</td>\n",
       "      <td>South bend Indiana</td>\n",
       "      <td>2019/07</td>\n",
       "    </tr>\n",
       "    <tr>\n",
       "      <th>1821</th>\n",
       "      <td>Great location for my needs when traveling for...</td>\n",
       "      <td>2019/03/28</td>\n",
       "      <td>NaN</td>\n",
       "      <td>2019/03</td>\n",
       "    </tr>\n",
       "    <tr>\n",
       "      <th>464</th>\n",
       "      <td>Great location for Penn Station and Madison Sq...</td>\n",
       "      <td>2019/07/08</td>\n",
       "      <td>Scotland</td>\n",
       "      <td>2019/07</td>\n",
       "    </tr>\n",
       "    <tr>\n",
       "      <th>3566</th>\n",
       "      <td>Love that it’s around the corner from Disney S...</td>\n",
       "      <td>2018/12/08</td>\n",
       "      <td>San Antonio Tx</td>\n",
       "      <td>2018/12</td>\n",
       "    </tr>\n",
       "  </tbody>\n",
       "</table>\n",
       "</div>"
      ],
      "text/plain": [
       "                                                 Review        date  \\\n",
       "1092  we paid for a room and they said thier compute...  2019/05/07   \n",
       "1379  It was quite comfortable. The staff was always...  2019/04/21   \n",
       "2605  IT was good.. I was there for business and wan...    2019/2/1   \n",
       "6432  ·very good location especially in relation to ...  2019/07/14   \n",
       "3323  Excellent experience upgraded to a balcony gre...  2018/12/19   \n",
       "6276  ·comfy beds\\n big rooms\\n friendly service \\n ...  2019/08/18   \n",
       "228   The layout and location are great. They offer ...  2019/07/30   \n",
       "1821  Great location for my needs when traveling for...  2019/03/28   \n",
       "464   Great location for Penn Station and Madison Sq...  2019/07/08   \n",
       "3566  Love that it’s around the corner from Disney S...  2018/12/08   \n",
       "\n",
       "                Location Year And Month  \n",
       "1092                 NaN        2019/05  \n",
       "1379                 NaN        2019/04  \n",
       "2605                 NaN         2019/2  \n",
       "6432        South Africa        2019/07  \n",
       "3323                 NaN        2018/12  \n",
       "6276      United Kingdom        2019/08  \n",
       "228   South bend Indiana        2019/07  \n",
       "1821                 NaN        2019/03  \n",
       "464             Scotland        2019/07  \n",
       "3566      San Antonio Tx        2018/12  "
      ]
     },
     "execution_count": 438,
     "metadata": {},
     "output_type": "execute_result"
    }
   ],
   "source": [
    "Data1.sample(10)"
   ]
  },
  {
   "cell_type": "code",
   "execution_count": 439,
   "metadata": {},
   "outputs": [
    {
     "data": {
      "text/plain": [
       "Review            object\n",
       "date              object\n",
       "Location          object\n",
       "Year And Month    object\n",
       "dtype: object"
      ]
     },
     "execution_count": 439,
     "metadata": {},
     "output_type": "execute_result"
    }
   ],
   "source": [
    "Data1.dtypes"
   ]
  },
  {
   "cell_type": "code",
   "execution_count": 440,
   "metadata": {},
   "outputs": [],
   "source": [
    "Data1['Pandas Date and Time']=pd.to_datetime(Data1['Year And Month'], format='%Y/%m', errors='coerce')\n"
   ]
  },
  {
   "cell_type": "code",
   "execution_count": 441,
   "metadata": {},
   "outputs": [
    {
     "data": {
      "text/html": [
       "<div>\n",
       "<style scoped>\n",
       "    .dataframe tbody tr th:only-of-type {\n",
       "        vertical-align: middle;\n",
       "    }\n",
       "\n",
       "    .dataframe tbody tr th {\n",
       "        vertical-align: top;\n",
       "    }\n",
       "\n",
       "    .dataframe thead th {\n",
       "        text-align: right;\n",
       "    }\n",
       "</style>\n",
       "<table border=\"1\" class=\"dataframe\">\n",
       "  <thead>\n",
       "    <tr style=\"text-align: right;\">\n",
       "      <th></th>\n",
       "      <th>Review</th>\n",
       "      <th>date</th>\n",
       "      <th>Location</th>\n",
       "      <th>Year And Month</th>\n",
       "      <th>Pandas Date and Time</th>\n",
       "    </tr>\n",
       "  </thead>\n",
       "  <tbody>\n",
       "    <tr>\n",
       "      <th>0</th>\n",
       "      <td>I was very impressed with the resort.\\n Great ...</td>\n",
       "      <td>2019/08/20</td>\n",
       "      <td>Sebastian</td>\n",
       "      <td>2019/08</td>\n",
       "      <td>2019-08-01</td>\n",
       "    </tr>\n",
       "    <tr>\n",
       "      <th>1</th>\n",
       "      <td>The rooms were nice the outside needs work als...</td>\n",
       "      <td>2019/08/20</td>\n",
       "      <td>Los Angeles</td>\n",
       "      <td>2019/08</td>\n",
       "      <td>2019-08-01</td>\n",
       "    </tr>\n",
       "    <tr>\n",
       "      <th>2</th>\n",
       "      <td>Great location! I have stayed at this hotel on...</td>\n",
       "      <td>2019/08/20</td>\n",
       "      <td>Georgia</td>\n",
       "      <td>2019/08</td>\n",
       "      <td>2019-08-01</td>\n",
       "    </tr>\n",
       "    <tr>\n",
       "      <th>3</th>\n",
       "      <td>The hotel was adequate for my stay. The strips...</td>\n",
       "      <td>2019/08/20</td>\n",
       "      <td>NaN</td>\n",
       "      <td>2019/08</td>\n",
       "      <td>2019-08-01</td>\n",
       "    </tr>\n",
       "    <tr>\n",
       "      <th>4</th>\n",
       "      <td>Great location, room was large and spacious. P...</td>\n",
       "      <td>2019/08/19</td>\n",
       "      <td>Palm Harbor</td>\n",
       "      <td>2019/08</td>\n",
       "      <td>2019-08-01</td>\n",
       "    </tr>\n",
       "  </tbody>\n",
       "</table>\n",
       "</div>"
      ],
      "text/plain": [
       "                                              Review        date     Location  \\\n",
       "0  I was very impressed with the resort.\\n Great ...  2019/08/20    Sebastian   \n",
       "1  The rooms were nice the outside needs work als...  2019/08/20  Los Angeles   \n",
       "2  Great location! I have stayed at this hotel on...  2019/08/20      Georgia   \n",
       "3  The hotel was adequate for my stay. The strips...  2019/08/20          NaN   \n",
       "4  Great location, room was large and spacious. P...  2019/08/19  Palm Harbor   \n",
       "\n",
       "  Year And Month Pandas Date and Time  \n",
       "0        2019/08           2019-08-01  \n",
       "1        2019/08           2019-08-01  \n",
       "2        2019/08           2019-08-01  \n",
       "3        2019/08           2019-08-01  \n",
       "4        2019/08           2019-08-01  "
      ]
     },
     "execution_count": 441,
     "metadata": {},
     "output_type": "execute_result"
    }
   ],
   "source": [
    "Data1.head()"
   ]
  },
  {
   "cell_type": "code",
   "execution_count": 442,
   "metadata": {},
   "outputs": [],
   "source": [
    "Data1['Month']=Data1['Pandas Date and Time'].dt.month"
   ]
  },
  {
   "cell_type": "code",
   "execution_count": 443,
   "metadata": {},
   "outputs": [],
   "source": [
    "Data1['Year']=Data1['Pandas Date and Time'].dt.year"
   ]
  },
  {
   "cell_type": "code",
   "execution_count": 444,
   "metadata": {},
   "outputs": [
    {
     "data": {
      "text/html": [
       "<div>\n",
       "<style scoped>\n",
       "    .dataframe tbody tr th:only-of-type {\n",
       "        vertical-align: middle;\n",
       "    }\n",
       "\n",
       "    .dataframe tbody tr th {\n",
       "        vertical-align: top;\n",
       "    }\n",
       "\n",
       "    .dataframe thead th {\n",
       "        text-align: right;\n",
       "    }\n",
       "</style>\n",
       "<table border=\"1\" class=\"dataframe\">\n",
       "  <thead>\n",
       "    <tr style=\"text-align: right;\">\n",
       "      <th></th>\n",
       "      <th>Review</th>\n",
       "      <th>date</th>\n",
       "      <th>Location</th>\n",
       "      <th>Year And Month</th>\n",
       "      <th>Pandas Date and Time</th>\n",
       "      <th>Month</th>\n",
       "      <th>Year</th>\n",
       "    </tr>\n",
       "  </thead>\n",
       "  <tbody>\n",
       "    <tr>\n",
       "      <th>0</th>\n",
       "      <td>I was very impressed with the resort.\\n Great ...</td>\n",
       "      <td>2019/08/20</td>\n",
       "      <td>Sebastian</td>\n",
       "      <td>2019/08</td>\n",
       "      <td>2019-08-01</td>\n",
       "      <td>8</td>\n",
       "      <td>2019</td>\n",
       "    </tr>\n",
       "    <tr>\n",
       "      <th>1</th>\n",
       "      <td>The rooms were nice the outside needs work als...</td>\n",
       "      <td>2019/08/20</td>\n",
       "      <td>Los Angeles</td>\n",
       "      <td>2019/08</td>\n",
       "      <td>2019-08-01</td>\n",
       "      <td>8</td>\n",
       "      <td>2019</td>\n",
       "    </tr>\n",
       "    <tr>\n",
       "      <th>2</th>\n",
       "      <td>Great location! I have stayed at this hotel on...</td>\n",
       "      <td>2019/08/20</td>\n",
       "      <td>Georgia</td>\n",
       "      <td>2019/08</td>\n",
       "      <td>2019-08-01</td>\n",
       "      <td>8</td>\n",
       "      <td>2019</td>\n",
       "    </tr>\n",
       "    <tr>\n",
       "      <th>3</th>\n",
       "      <td>The hotel was adequate for my stay. The strips...</td>\n",
       "      <td>2019/08/20</td>\n",
       "      <td>NaN</td>\n",
       "      <td>2019/08</td>\n",
       "      <td>2019-08-01</td>\n",
       "      <td>8</td>\n",
       "      <td>2019</td>\n",
       "    </tr>\n",
       "    <tr>\n",
       "      <th>4</th>\n",
       "      <td>Great location, room was large and spacious. P...</td>\n",
       "      <td>2019/08/19</td>\n",
       "      <td>Palm Harbor</td>\n",
       "      <td>2019/08</td>\n",
       "      <td>2019-08-01</td>\n",
       "      <td>8</td>\n",
       "      <td>2019</td>\n",
       "    </tr>\n",
       "  </tbody>\n",
       "</table>\n",
       "</div>"
      ],
      "text/plain": [
       "                                              Review        date     Location  \\\n",
       "0  I was very impressed with the resort.\\n Great ...  2019/08/20    Sebastian   \n",
       "1  The rooms were nice the outside needs work als...  2019/08/20  Los Angeles   \n",
       "2  Great location! I have stayed at this hotel on...  2019/08/20      Georgia   \n",
       "3  The hotel was adequate for my stay. The strips...  2019/08/20          NaN   \n",
       "4  Great location, room was large and spacious. P...  2019/08/19  Palm Harbor   \n",
       "\n",
       "  Year And Month Pandas Date and Time  Month  Year  \n",
       "0        2019/08           2019-08-01      8  2019  \n",
       "1        2019/08           2019-08-01      8  2019  \n",
       "2        2019/08           2019-08-01      8  2019  \n",
       "3        2019/08           2019-08-01      8  2019  \n",
       "4        2019/08           2019-08-01      8  2019  "
      ]
     },
     "execution_count": 444,
     "metadata": {},
     "output_type": "execute_result"
    }
   ],
   "source": [
    "Data1.head()"
   ]
  },
  {
   "cell_type": "code",
   "execution_count": 445,
   "metadata": {},
   "outputs": [],
   "source": [
    "Data1 = Data1.drop('Year And Month', axis=1)"
   ]
  },
  {
   "cell_type": "code",
   "execution_count": 446,
   "metadata": {},
   "outputs": [],
   "source": [
    "Data1 = Data1.drop('Pandas Date and Time', axis=1)"
   ]
  },
  {
   "cell_type": "code",
   "execution_count": 447,
   "metadata": {},
   "outputs": [
    {
     "data": {
      "text/html": [
       "<div>\n",
       "<style scoped>\n",
       "    .dataframe tbody tr th:only-of-type {\n",
       "        vertical-align: middle;\n",
       "    }\n",
       "\n",
       "    .dataframe tbody tr th {\n",
       "        vertical-align: top;\n",
       "    }\n",
       "\n",
       "    .dataframe thead th {\n",
       "        text-align: right;\n",
       "    }\n",
       "</style>\n",
       "<table border=\"1\" class=\"dataframe\">\n",
       "  <thead>\n",
       "    <tr style=\"text-align: right;\">\n",
       "      <th></th>\n",
       "      <th>Review</th>\n",
       "      <th>date</th>\n",
       "      <th>Location</th>\n",
       "      <th>Month</th>\n",
       "      <th>Year</th>\n",
       "    </tr>\n",
       "  </thead>\n",
       "  <tbody>\n",
       "    <tr>\n",
       "      <th>2990</th>\n",
       "      <td>Very good location. Close to time square and E...</td>\n",
       "      <td>2019/1/4</td>\n",
       "      <td>NaN</td>\n",
       "      <td>1</td>\n",
       "      <td>2019</td>\n",
       "    </tr>\n",
       "    <tr>\n",
       "      <th>366</th>\n",
       "      <td>Pros: easy check-in, plenty of parking, friend...</td>\n",
       "      <td>2019/07/16</td>\n",
       "      <td>San Diego</td>\n",
       "      <td>7</td>\n",
       "      <td>2019</td>\n",
       "    </tr>\n",
       "    <tr>\n",
       "      <th>1203</th>\n",
       "      <td>I repeatedly come back to Wyndham Garden becau...</td>\n",
       "      <td>2019/04/30</td>\n",
       "      <td>NaN</td>\n",
       "      <td>4</td>\n",
       "      <td>2019</td>\n",
       "    </tr>\n",
       "    <tr>\n",
       "      <th>274</th>\n",
       "      <td>Die zentrale Lage ist unschlagbar. Das Zimmer ...</td>\n",
       "      <td>2019/07/25</td>\n",
       "      <td>NaN</td>\n",
       "      <td>7</td>\n",
       "      <td>2019</td>\n",
       "    </tr>\n",
       "    <tr>\n",
       "      <th>5761</th>\n",
       "      <td>My husband and I, and my brother and his wife ...</td>\n",
       "      <td>2019/04</td>\n",
       "      <td>NaN</td>\n",
       "      <td>4</td>\n",
       "      <td>2019</td>\n",
       "    </tr>\n",
       "    <tr>\n",
       "      <th>447</th>\n",
       "      <td>Maid service and the Maids themselves were exc...</td>\n",
       "      <td>2019/07/09</td>\n",
       "      <td>Belfast</td>\n",
       "      <td>7</td>\n",
       "      <td>2019</td>\n",
       "    </tr>\n",
       "    <tr>\n",
       "      <th>1279</th>\n",
       "      <td>To be honest, I love the hotel but the “facili...</td>\n",
       "      <td>2019/04/25</td>\n",
       "      <td>Warren, RI</td>\n",
       "      <td>4</td>\n",
       "      <td>2019</td>\n",
       "    </tr>\n",
       "    <tr>\n",
       "      <th>4954</th>\n",
       "      <td>Clean facility. Nice staff. Decent breakfast. ...</td>\n",
       "      <td>2018/09/03</td>\n",
       "      <td>NaN</td>\n",
       "      <td>9</td>\n",
       "      <td>2018</td>\n",
       "    </tr>\n",
       "    <tr>\n",
       "      <th>3072</th>\n",
       "      <td>Perfectly located for accessing all of the maj...</td>\n",
       "      <td>2019/01/01</td>\n",
       "      <td>NaN</td>\n",
       "      <td>1</td>\n",
       "      <td>2019</td>\n",
       "    </tr>\n",
       "    <tr>\n",
       "      <th>2439</th>\n",
       "      <td>Tv didn’t work in the first room and we had to...</td>\n",
       "      <td>2019/2/18</td>\n",
       "      <td>NaN</td>\n",
       "      <td>2</td>\n",
       "      <td>2019</td>\n",
       "    </tr>\n",
       "    <tr>\n",
       "      <th>2959</th>\n",
       "      <td>Great location. Nice staff. Clean. Comfortable...</td>\n",
       "      <td>2019/1/6</td>\n",
       "      <td>Middletown, md</td>\n",
       "      <td>1</td>\n",
       "      <td>2019</td>\n",
       "    </tr>\n",
       "    <tr>\n",
       "      <th>6241</th>\n",
       "      <td>Stayed here many times for business and pleasu...</td>\n",
       "      <td>2019/07</td>\n",
       "      <td>NaN</td>\n",
       "      <td>7</td>\n",
       "      <td>2019</td>\n",
       "    </tr>\n",
       "    <tr>\n",
       "      <th>2964</th>\n",
       "      <td>El hotel está muy bien ubicado para ir a resta...</td>\n",
       "      <td>2019/1/6</td>\n",
       "      <td>NaN</td>\n",
       "      <td>1</td>\n",
       "      <td>2019</td>\n",
       "    </tr>\n",
       "    <tr>\n",
       "      <th>5594</th>\n",
       "      <td>We stayed here for 10 days. I was disappointed...</td>\n",
       "      <td>2019/03/01</td>\n",
       "      <td>NaN</td>\n",
       "      <td>3</td>\n",
       "      <td>2019</td>\n",
       "    </tr>\n",
       "    <tr>\n",
       "      <th>4139</th>\n",
       "      <td>Clean and friendly, personally I thought it wa...</td>\n",
       "      <td>2018/10/30</td>\n",
       "      <td>Ontario</td>\n",
       "      <td>10</td>\n",
       "      <td>2018</td>\n",
       "    </tr>\n",
       "    <tr>\n",
       "      <th>4444</th>\n",
       "      <td>Nice hotel..comfortable room..hallway and room...</td>\n",
       "      <td>2018/10/10</td>\n",
       "      <td>St louis</td>\n",
       "      <td>10</td>\n",
       "      <td>2018</td>\n",
       "    </tr>\n",
       "    <tr>\n",
       "      <th>2381</th>\n",
       "      <td>Most hots in San Jose that are low priced in S...</td>\n",
       "      <td>2019/2/21</td>\n",
       "      <td>NaN</td>\n",
       "      <td>2</td>\n",
       "      <td>2019</td>\n",
       "    </tr>\n",
       "    <tr>\n",
       "      <th>650</th>\n",
       "      <td>The sheets on the bed were stained, there was ...</td>\n",
       "      <td>2019/06/22</td>\n",
       "      <td>NaN</td>\n",
       "      <td>6</td>\n",
       "      <td>2019</td>\n",
       "    </tr>\n",
       "    <tr>\n",
       "      <th>5979</th>\n",
       "      <td>We stayed here during our Disney visit. The Wy...</td>\n",
       "      <td>2019/01</td>\n",
       "      <td>NaN</td>\n",
       "      <td>1</td>\n",
       "      <td>2019</td>\n",
       "    </tr>\n",
       "    <tr>\n",
       "      <th>4381</th>\n",
       "      <td>Very clean, and great rooms. Close to a lot of...</td>\n",
       "      <td>2018/10/15</td>\n",
       "      <td>orlando, fl</td>\n",
       "      <td>10</td>\n",
       "      <td>2018</td>\n",
       "    </tr>\n",
       "  </tbody>\n",
       "</table>\n",
       "</div>"
      ],
      "text/plain": [
       "                                                 Review        date  \\\n",
       "2990  Very good location. Close to time square and E...    2019/1/4   \n",
       "366   Pros: easy check-in, plenty of parking, friend...  2019/07/16   \n",
       "1203  I repeatedly come back to Wyndham Garden becau...  2019/04/30   \n",
       "274   Die zentrale Lage ist unschlagbar. Das Zimmer ...  2019/07/25   \n",
       "5761  My husband and I, and my brother and his wife ...     2019/04   \n",
       "447   Maid service and the Maids themselves were exc...  2019/07/09   \n",
       "1279  To be honest, I love the hotel but the “facili...  2019/04/25   \n",
       "4954  Clean facility. Nice staff. Decent breakfast. ...  2018/09/03   \n",
       "3072  Perfectly located for accessing all of the maj...  2019/01/01   \n",
       "2439  Tv didn’t work in the first room and we had to...   2019/2/18   \n",
       "2959  Great location. Nice staff. Clean. Comfortable...    2019/1/6   \n",
       "6241  Stayed here many times for business and pleasu...     2019/07   \n",
       "2964  El hotel está muy bien ubicado para ir a resta...    2019/1/6   \n",
       "5594  We stayed here for 10 days. I was disappointed...  2019/03/01   \n",
       "4139  Clean and friendly, personally I thought it wa...  2018/10/30   \n",
       "4444  Nice hotel..comfortable room..hallway and room...  2018/10/10   \n",
       "2381  Most hots in San Jose that are low priced in S...   2019/2/21   \n",
       "650   The sheets on the bed were stained, there was ...  2019/06/22   \n",
       "5979  We stayed here during our Disney visit. The Wy...     2019/01   \n",
       "4381  Very clean, and great rooms. Close to a lot of...  2018/10/15   \n",
       "\n",
       "            Location  Month  Year  \n",
       "2990             NaN      1  2019  \n",
       "366        San Diego      7  2019  \n",
       "1203             NaN      4  2019  \n",
       "274              NaN      7  2019  \n",
       "5761             NaN      4  2019  \n",
       "447          Belfast      7  2019  \n",
       "1279      Warren, RI      4  2019  \n",
       "4954             NaN      9  2018  \n",
       "3072             NaN      1  2019  \n",
       "2439             NaN      2  2019  \n",
       "2959  Middletown, md      1  2019  \n",
       "6241             NaN      7  2019  \n",
       "2964             NaN      1  2019  \n",
       "5594             NaN      3  2019  \n",
       "4139         Ontario     10  2018  \n",
       "4444        St louis     10  2018  \n",
       "2381             NaN      2  2019  \n",
       "650              NaN      6  2019  \n",
       "5979             NaN      1  2019  \n",
       "4381     orlando, fl     10  2018  "
      ]
     },
     "execution_count": 447,
     "metadata": {},
     "output_type": "execute_result"
    }
   ],
   "source": [
    "Data1.sample(20)"
   ]
  },
  {
   "cell_type": "markdown",
   "metadata": {},
   "source": [
    "Year Wise Total Comment"
   ]
  },
  {
   "cell_type": "code",
   "execution_count": 448,
   "metadata": {},
   "outputs": [
    {
     "data": {
      "text/plain": [
       "(6393, 5)"
      ]
     },
     "execution_count": 448,
     "metadata": {},
     "output_type": "execute_result"
    }
   ],
   "source": [
    "Data1.shape"
   ]
  },
  {
   "cell_type": "code",
   "execution_count": 449,
   "metadata": {},
   "outputs": [
    {
     "data": {
      "text/plain": [
       "array([2019, 2018])"
      ]
     },
     "execution_count": 449,
     "metadata": {},
     "output_type": "execute_result"
    }
   ],
   "source": [
    "Data1['Year'].unique()"
   ]
  },
  {
   "cell_type": "markdown",
   "metadata": {},
   "source": [
    "We have Two Year of Review Data"
   ]
  },
  {
   "cell_type": "code",
   "execution_count": 450,
   "metadata": {},
   "outputs": [
    {
     "data": {
      "text/plain": [
       "2572"
      ]
     },
     "execution_count": 450,
     "metadata": {},
     "output_type": "execute_result"
    }
   ],
   "source": [
    "len(Data1[Data1['Year']==2018])"
   ]
  },
  {
   "cell_type": "code",
   "execution_count": 451,
   "metadata": {},
   "outputs": [
    {
     "data": {
      "text/plain": [
       "3821"
      ]
     },
     "execution_count": 451,
     "metadata": {},
     "output_type": "execute_result"
    }
   ],
   "source": [
    "len(Data1[Data1['Year']==2019])"
   ]
  },
  {
   "cell_type": "code",
   "execution_count": 452,
   "metadata": {},
   "outputs": [
    {
     "data": {
      "image/png": "[encoded data removed]",
      "text/plain": [
       "<Figure size 640x480 with 1 Axes>"
      ]
     },
     "metadata": {},
     "output_type": "display_data"
    }
   ],
   "source": [
    "import matplotlib.pyplot as plt\n",
    "\n",
    "count_2018 = len(Data1[Data1['Year'] == 2018])\n",
    "count_2019 = len(Data1[Data1['Year'] == 2019])\n",
    "\n",
    "labels = ['2018', '2019']\n",
    "sizes = [count_2018, count_2019]\n",
    "\n",
    "\n",
    "plt.pie(sizes, labels=labels, autopct='%1.1f%%', startangle=90)\n",
    "\n",
    "plt.axis('equal')\n",
    "plt.title('Year Wise Review')\n",
    "plt.show()\n"
   ]
  },
  {
   "cell_type": "code",
   "execution_count": 453,
   "metadata": {},
   "outputs": [
    {
     "data": {
      "text/html": [
       "<div>\n",
       "<style scoped>\n",
       "    .dataframe tbody tr th:only-of-type {\n",
       "        vertical-align: middle;\n",
       "    }\n",
       "\n",
       "    .dataframe tbody tr th {\n",
       "        vertical-align: top;\n",
       "    }\n",
       "\n",
       "    .dataframe thead th {\n",
       "        text-align: right;\n",
       "    }\n",
       "</style>\n",
       "<table border=\"1\" class=\"dataframe\">\n",
       "  <thead>\n",
       "    <tr style=\"text-align: right;\">\n",
       "      <th></th>\n",
       "      <th>Year</th>\n",
       "      <th>Month</th>\n",
       "      <th>count</th>\n",
       "    </tr>\n",
       "  </thead>\n",
       "  <tbody>\n",
       "    <tr>\n",
       "      <th>0</th>\n",
       "      <td>2018</td>\n",
       "      <td>12</td>\n",
       "      <td>626</td>\n",
       "    </tr>\n",
       "    <tr>\n",
       "      <th>1</th>\n",
       "      <td>2018</td>\n",
       "      <td>10</td>\n",
       "      <td>520</td>\n",
       "    </tr>\n",
       "    <tr>\n",
       "      <th>2</th>\n",
       "      <td>2018</td>\n",
       "      <td>11</td>\n",
       "      <td>515</td>\n",
       "    </tr>\n",
       "    <tr>\n",
       "      <th>3</th>\n",
       "      <td>2018</td>\n",
       "      <td>9</td>\n",
       "      <td>478</td>\n",
       "    </tr>\n",
       "    <tr>\n",
       "      <th>4</th>\n",
       "      <td>2018</td>\n",
       "      <td>8</td>\n",
       "      <td>433</td>\n",
       "    </tr>\n",
       "    <tr>\n",
       "      <th>5</th>\n",
       "      <td>2019</td>\n",
       "      <td>3</td>\n",
       "      <td>603</td>\n",
       "    </tr>\n",
       "    <tr>\n",
       "      <th>6</th>\n",
       "      <td>2019</td>\n",
       "      <td>4</td>\n",
       "      <td>583</td>\n",
       "    </tr>\n",
       "    <tr>\n",
       "      <th>7</th>\n",
       "      <td>2019</td>\n",
       "      <td>7</td>\n",
       "      <td>547</td>\n",
       "    </tr>\n",
       "    <tr>\n",
       "      <th>8</th>\n",
       "      <td>2019</td>\n",
       "      <td>5</td>\n",
       "      <td>521</td>\n",
       "    </tr>\n",
       "    <tr>\n",
       "      <th>9</th>\n",
       "      <td>2019</td>\n",
       "      <td>1</td>\n",
       "      <td>504</td>\n",
       "    </tr>\n",
       "    <tr>\n",
       "      <th>10</th>\n",
       "      <td>2019</td>\n",
       "      <td>2</td>\n",
       "      <td>412</td>\n",
       "    </tr>\n",
       "    <tr>\n",
       "      <th>11</th>\n",
       "      <td>2019</td>\n",
       "      <td>6</td>\n",
       "      <td>362</td>\n",
       "    </tr>\n",
       "    <tr>\n",
       "      <th>12</th>\n",
       "      <td>2019</td>\n",
       "      <td>8</td>\n",
       "      <td>289</td>\n",
       "    </tr>\n",
       "  </tbody>\n",
       "</table>\n",
       "</div>"
      ],
      "text/plain": [
       "    Year  Month  count\n",
       "0   2018     12    626\n",
       "1   2018     10    520\n",
       "2   2018     11    515\n",
       "3   2018      9    478\n",
       "4   2018      8    433\n",
       "5   2019      3    603\n",
       "6   2019      4    583\n",
       "7   2019      7    547\n",
       "8   2019      5    521\n",
       "9   2019      1    504\n",
       "10  2019      2    412\n",
       "11  2019      6    362\n",
       "12  2019      8    289"
      ]
     },
     "execution_count": 453,
     "metadata": {},
     "output_type": "execute_result"
    }
   ],
   "source": [
    "Data1.groupby('Year')['Month'].value_counts().reset_index()"
   ]
  },
  {
   "cell_type": "code",
   "execution_count": 454,
   "metadata": {},
   "outputs": [],
   "source": [
    "yearwise=Data1.groupby('Year')['Month'].value_counts().reset_index()"
   ]
  },
  {
   "cell_type": "code",
   "execution_count": 455,
   "metadata": {},
   "outputs": [
    {
     "data": {
      "text/html": [
       "<div>\n",
       "<style scoped>\n",
       "    .dataframe tbody tr th:only-of-type {\n",
       "        vertical-align: middle;\n",
       "    }\n",
       "\n",
       "    .dataframe tbody tr th {\n",
       "        vertical-align: top;\n",
       "    }\n",
       "\n",
       "    .dataframe thead th {\n",
       "        text-align: right;\n",
       "    }\n",
       "</style>\n",
       "<table border=\"1\" class=\"dataframe\">\n",
       "  <thead>\n",
       "    <tr style=\"text-align: right;\">\n",
       "      <th></th>\n",
       "      <th>Year</th>\n",
       "      <th>Month</th>\n",
       "      <th>count</th>\n",
       "    </tr>\n",
       "  </thead>\n",
       "  <tbody>\n",
       "    <tr>\n",
       "      <th>0</th>\n",
       "      <td>2018</td>\n",
       "      <td>12</td>\n",
       "      <td>626</td>\n",
       "    </tr>\n",
       "    <tr>\n",
       "      <th>1</th>\n",
       "      <td>2018</td>\n",
       "      <td>10</td>\n",
       "      <td>520</td>\n",
       "    </tr>\n",
       "    <tr>\n",
       "      <th>2</th>\n",
       "      <td>2018</td>\n",
       "      <td>11</td>\n",
       "      <td>515</td>\n",
       "    </tr>\n",
       "    <tr>\n",
       "      <th>3</th>\n",
       "      <td>2018</td>\n",
       "      <td>9</td>\n",
       "      <td>478</td>\n",
       "    </tr>\n",
       "    <tr>\n",
       "      <th>4</th>\n",
       "      <td>2018</td>\n",
       "      <td>8</td>\n",
       "      <td>433</td>\n",
       "    </tr>\n",
       "    <tr>\n",
       "      <th>5</th>\n",
       "      <td>2019</td>\n",
       "      <td>3</td>\n",
       "      <td>603</td>\n",
       "    </tr>\n",
       "    <tr>\n",
       "      <th>6</th>\n",
       "      <td>2019</td>\n",
       "      <td>4</td>\n",
       "      <td>583</td>\n",
       "    </tr>\n",
       "    <tr>\n",
       "      <th>7</th>\n",
       "      <td>2019</td>\n",
       "      <td>7</td>\n",
       "      <td>547</td>\n",
       "    </tr>\n",
       "    <tr>\n",
       "      <th>8</th>\n",
       "      <td>2019</td>\n",
       "      <td>5</td>\n",
       "      <td>521</td>\n",
       "    </tr>\n",
       "    <tr>\n",
       "      <th>9</th>\n",
       "      <td>2019</td>\n",
       "      <td>1</td>\n",
       "      <td>504</td>\n",
       "    </tr>\n",
       "    <tr>\n",
       "      <th>10</th>\n",
       "      <td>2019</td>\n",
       "      <td>2</td>\n",
       "      <td>412</td>\n",
       "    </tr>\n",
       "    <tr>\n",
       "      <th>11</th>\n",
       "      <td>2019</td>\n",
       "      <td>6</td>\n",
       "      <td>362</td>\n",
       "    </tr>\n",
       "    <tr>\n",
       "      <th>12</th>\n",
       "      <td>2019</td>\n",
       "      <td>8</td>\n",
       "      <td>289</td>\n",
       "    </tr>\n",
       "  </tbody>\n",
       "</table>\n",
       "</div>"
      ],
      "text/plain": [
       "    Year  Month  count\n",
       "0   2018     12    626\n",
       "1   2018     10    520\n",
       "2   2018     11    515\n",
       "3   2018      9    478\n",
       "4   2018      8    433\n",
       "5   2019      3    603\n",
       "6   2019      4    583\n",
       "7   2019      7    547\n",
       "8   2019      5    521\n",
       "9   2019      1    504\n",
       "10  2019      2    412\n",
       "11  2019      6    362\n",
       "12  2019      8    289"
      ]
     },
     "execution_count": 455,
     "metadata": {},
     "output_type": "execute_result"
    }
   ],
   "source": [
    "Data1.groupby('Year')['Month'].value_counts().reset_index()"
   ]
  },
  {
   "cell_type": "markdown",
   "metadata": {},
   "source": [
    "2018 And 2019 Month Wise Review "
   ]
  },
  {
   "cell_type": "code",
   "execution_count": 458,
   "metadata": {},
   "outputs": [
    {
     "data": {
      "image/png": "[encoded data removed]",
      "text/plain": [
       "<Figure size 640x480 with 1 Axes>"
      ]
     },
     "metadata": {},
     "output_type": "display_data"
    }
   ],
   "source": [
    "ax = (yearwise[yearwise['Year'] == 2018]).sort_values('count',ascending=False).plot(kind='bar', x='Month', y='count', color=['#ff9999', '#66b3ff', '#99ff99', '#ffcc99', '#c2c2f0', '#ffb3e6'])\n",
    "\n",
    "plt.xlabel('Month')\n",
    "plt.ylabel('Count')\n",
    "plt.title('Monthly Data for Year 2018')\n",
    "\n",
    "plt.show()\n"
   ]
  },
  {
   "cell_type": "code",
   "execution_count": 457,
   "metadata": {},
   "outputs": [
    {
     "data": {
      "image/png": "[encoded data removed]",
      "text/plain": [
       "<Figure size 640x480 with 1 Axes>"
      ]
     },
     "metadata": {},
     "output_type": "display_data"
    }
   ],
   "source": [
    "ax = (yearwise[yearwise['Year'] == 2019]).sort_values('count',ascending=False).plot(kind='bar', x='Month', y='count', color=['#ff9999', '#66b3ff', '#99ff99', '#ffcc99', '#c2c2f0', '#ffb3e6'])\n",
    "\n",
    "plt.xlabel('Month')\n",
    "plt.ylabel('Count')\n",
    "plt.title('Monthly Data for Year 2019')\n",
    "\n",
    "plt.show()"
   ]
  },
  {
   "cell_type": "markdown",
   "metadata": {},
   "source": [
    "Location"
   ]
  },
  {
   "cell_type": "code",
   "execution_count": 459,
   "metadata": {},
   "outputs": [
    {
     "data": {
      "text/html": [
       "<div>\n",
       "<style scoped>\n",
       "    .dataframe tbody tr th:only-of-type {\n",
       "        vertical-align: middle;\n",
       "    }\n",
       "\n",
       "    .dataframe tbody tr th {\n",
       "        vertical-align: top;\n",
       "    }\n",
       "\n",
       "    .dataframe thead th {\n",
       "        text-align: right;\n",
       "    }\n",
       "</style>\n",
       "<table border=\"1\" class=\"dataframe\">\n",
       "  <thead>\n",
       "    <tr style=\"text-align: right;\">\n",
       "      <th></th>\n",
       "      <th>Review</th>\n",
       "      <th>date</th>\n",
       "      <th>Location</th>\n",
       "      <th>Month</th>\n",
       "      <th>Year</th>\n",
       "    </tr>\n",
       "  </thead>\n",
       "  <tbody>\n",
       "    <tr>\n",
       "      <th>0</th>\n",
       "      <td>I was very impressed with the resort.\\n Great ...</td>\n",
       "      <td>2019/08/20</td>\n",
       "      <td>Sebastian</td>\n",
       "      <td>8</td>\n",
       "      <td>2019</td>\n",
       "    </tr>\n",
       "    <tr>\n",
       "      <th>1</th>\n",
       "      <td>The rooms were nice the outside needs work als...</td>\n",
       "      <td>2019/08/20</td>\n",
       "      <td>Los Angeles</td>\n",
       "      <td>8</td>\n",
       "      <td>2019</td>\n",
       "    </tr>\n",
       "    <tr>\n",
       "      <th>2</th>\n",
       "      <td>Great location! I have stayed at this hotel on...</td>\n",
       "      <td>2019/08/20</td>\n",
       "      <td>Georgia</td>\n",
       "      <td>8</td>\n",
       "      <td>2019</td>\n",
       "    </tr>\n",
       "    <tr>\n",
       "      <th>3</th>\n",
       "      <td>The hotel was adequate for my stay. The strips...</td>\n",
       "      <td>2019/08/20</td>\n",
       "      <td>NaN</td>\n",
       "      <td>8</td>\n",
       "      <td>2019</td>\n",
       "    </tr>\n",
       "    <tr>\n",
       "      <th>4</th>\n",
       "      <td>Great location, room was large and spacious. P...</td>\n",
       "      <td>2019/08/19</td>\n",
       "      <td>Palm Harbor</td>\n",
       "      <td>8</td>\n",
       "      <td>2019</td>\n",
       "    </tr>\n",
       "  </tbody>\n",
       "</table>\n",
       "</div>"
      ],
      "text/plain": [
       "                                              Review        date     Location  \\\n",
       "0  I was very impressed with the resort.\\n Great ...  2019/08/20    Sebastian   \n",
       "1  The rooms were nice the outside needs work als...  2019/08/20  Los Angeles   \n",
       "2  Great location! I have stayed at this hotel on...  2019/08/20      Georgia   \n",
       "3  The hotel was adequate for my stay. The strips...  2019/08/20          NaN   \n",
       "4  Great location, room was large and spacious. P...  2019/08/19  Palm Harbor   \n",
       "\n",
       "   Month  Year  \n",
       "0      8  2019  \n",
       "1      8  2019  \n",
       "2      8  2019  \n",
       "3      8  2019  \n",
       "4      8  2019  "
      ]
     },
     "execution_count": 459,
     "metadata": {},
     "output_type": "execute_result"
    }
   ],
   "source": [
    "Data1.head()"
   ]
  },
  {
   "cell_type": "markdown",
   "metadata": {},
   "source": [
    "Top 10 Highest Reviwe Location"
   ]
  },
  {
   "cell_type": "code",
   "execution_count": 473,
   "metadata": {},
   "outputs": [
    {
     "data": {
      "image/png": "[encoded data removed]",
      "text/plain": [
       "<Figure size 640x480 with 1 Axes>"
      ]
     },
     "metadata": {},
     "output_type": "display_data"
    }
   ],
   "source": [
    "\n",
    "top_locations = Data1['Location'].value_counts().sort_values(ascending=False).head(10)\n",
    "top_locations.plot(kind='barh', color=['#ff9999', '#66b3ff', '#99ff99', '#ffcc99', '#c2c2f0', '#ffb3e6', '#ff6666', '#ffccff', '#c2f0c2', '#ffb366'])\n",
    "\n",
    "\n",
    "plt.xlabel('Count')\n",
    "plt.ylabel('Location')\n",
    "plt.title('Top 10 Locations Highest Review')\n",
    "\n",
    "\n",
    "plt.show()\n"
   ]
  },
  {
   "cell_type": "markdown",
   "metadata": {},
   "source": [
    "Review"
   ]
  },
  {
   "cell_type": "markdown",
   "metadata": {},
   "source": [
    "Apply NLP to Check The Sentiment"
   ]
  },
  {
   "cell_type": "code",
   "execution_count": null,
   "metadata": {},
   "outputs": [],
   "source": [
    "from textblob import TextBlob\n",
    "import pandas as pd\n",
    "data = Data1['Review']  \n",
    "\n",
    "df = pd.DataFrame(data)\n",
    "\n",
    "def get_sentiment(text):\n",
    "    blob = TextBlob(text)\n",
    "    return blob.sentiment.polarity\n",
    "\n",
    "df['Sentiment'] = df.apply(lambda row: get_sentiment(row['Review']), axis=1)\n",
    "\n",
    "def categorize_sentiment(polarity):\n",
    "    if polarity > 0:\n",
    "        return 'Positive'\n",
    "    elif polarity < 0:\n",
    "        return 'Negative'\n",
    "    else:\n",
    "        return 'Neutral'\n",
    "\n",
    "df['Sentiment Category'] = df['Sentiment'].apply(categorize_sentiment)\n",
    "\n",
    "\n",
    "\n"
   ]
  },
  {
   "cell_type": "code",
   "execution_count": null,
   "metadata": {},
   "outputs": [
    {
     "data": {
      "text/plain": [
       "'Positive'"
      ]
     },
     "execution_count": 493,
     "metadata": {},
     "output_type": "execute_result"
    }
   ],
   "source": [
    "df['Sentiment Category']"
   ]
  },
  {
   "cell_type": "code",
   "execution_count": 494,
   "metadata": {},
   "outputs": [],
   "source": [
    "Data1['Sentiment']=df['Sentiment Category']"
   ]
  },
  {
   "cell_type": "code",
   "execution_count": 495,
   "metadata": {},
   "outputs": [
    {
     "data": {
      "text/html": [
       "<div>\n",
       "<style scoped>\n",
       "    .dataframe tbody tr th:only-of-type {\n",
       "        vertical-align: middle;\n",
       "    }\n",
       "\n",
       "    .dataframe tbody tr th {\n",
       "        vertical-align: top;\n",
       "    }\n",
       "\n",
       "    .dataframe thead th {\n",
       "        text-align: right;\n",
       "    }\n",
       "</style>\n",
       "<table border=\"1\" class=\"dataframe\">\n",
       "  <thead>\n",
       "    <tr style=\"text-align: right;\">\n",
       "      <th></th>\n",
       "      <th>Review</th>\n",
       "      <th>date</th>\n",
       "      <th>Location</th>\n",
       "      <th>Month</th>\n",
       "      <th>Year</th>\n",
       "      <th>Sentiment</th>\n",
       "    </tr>\n",
       "  </thead>\n",
       "  <tbody>\n",
       "    <tr>\n",
       "      <th>3345</th>\n",
       "      <td>Nice hotel. Clean\\n  \\n  Read more\\n  Read less</td>\n",
       "      <td>2018/12/18</td>\n",
       "      <td>NaN</td>\n",
       "      <td>12</td>\n",
       "      <td>2018</td>\n",
       "      <td>Positive</td>\n",
       "    </tr>\n",
       "    <tr>\n",
       "      <th>6154</th>\n",
       "      <td>What a good hotel 1929 so plenty of olden char...</td>\n",
       "      <td>2018/11</td>\n",
       "      <td>NaN</td>\n",
       "      <td>11</td>\n",
       "      <td>2018</td>\n",
       "      <td>Positive</td>\n",
       "    </tr>\n",
       "    <tr>\n",
       "      <th>1465</th>\n",
       "      <td>My boyfriend and I enjoyed our stay very much....</td>\n",
       "      <td>2019/04/16</td>\n",
       "      <td>NaN</td>\n",
       "      <td>4</td>\n",
       "      <td>2019</td>\n",
       "      <td>Positive</td>\n",
       "    </tr>\n",
       "    <tr>\n",
       "      <th>4636</th>\n",
       "      <td>Over all the amenities in side the room we’re ...</td>\n",
       "      <td>2018/09/24</td>\n",
       "      <td>NaN</td>\n",
       "      <td>9</td>\n",
       "      <td>2018</td>\n",
       "      <td>Positive</td>\n",
       "    </tr>\n",
       "    <tr>\n",
       "      <th>3518</th>\n",
       "      <td>There's nothing I liked about this property ot...</td>\n",
       "      <td>2018/12/10</td>\n",
       "      <td>NaN</td>\n",
       "      <td>12</td>\n",
       "      <td>2018</td>\n",
       "      <td>Negative</td>\n",
       "    </tr>\n",
       "    <tr>\n",
       "      <th>4988</th>\n",
       "      <td>My second stay. It's a nice hotel with nice cl...</td>\n",
       "      <td>2018/08/31</td>\n",
       "      <td>NaN</td>\n",
       "      <td>8</td>\n",
       "      <td>2018</td>\n",
       "      <td>Positive</td>\n",
       "    </tr>\n",
       "    <tr>\n",
       "      <th>4554</th>\n",
       "      <td>The room was clean and comfortable. Even thoug...</td>\n",
       "      <td>2018/10/01</td>\n",
       "      <td>Livingston</td>\n",
       "      <td>10</td>\n",
       "      <td>2018</td>\n",
       "      <td>Positive</td>\n",
       "    </tr>\n",
       "    <tr>\n",
       "      <th>4550</th>\n",
       "      <td>The room was great, and the house keeping staf...</td>\n",
       "      <td>2018/10/02</td>\n",
       "      <td>Pensacola</td>\n",
       "      <td>10</td>\n",
       "      <td>2018</td>\n",
       "      <td>Positive</td>\n",
       "    </tr>\n",
       "    <tr>\n",
       "      <th>4054</th>\n",
       "      <td>This hotel was a mess, i’m not going to say mu...</td>\n",
       "      <td>2018/11/06</td>\n",
       "      <td>Miami, FL</td>\n",
       "      <td>11</td>\n",
       "      <td>2018</td>\n",
       "      <td>Negative</td>\n",
       "    </tr>\n",
       "    <tr>\n",
       "      <th>1259</th>\n",
       "      <td>Todo estaba limpio, nos hospedamos en el 9 pis...</td>\n",
       "      <td>2019/04/27</td>\n",
       "      <td>NaN</td>\n",
       "      <td>4</td>\n",
       "      <td>2019</td>\n",
       "      <td>Positive</td>\n",
       "    </tr>\n",
       "    <tr>\n",
       "      <th>4740</th>\n",
       "      <td>Ac didnt work in first room, so they moved me....</td>\n",
       "      <td>2018/09/17</td>\n",
       "      <td>NaN</td>\n",
       "      <td>9</td>\n",
       "      <td>2018</td>\n",
       "      <td>Positive</td>\n",
       "    </tr>\n",
       "    <tr>\n",
       "      <th>2016</th>\n",
       "      <td>It was close to Disney springs ..very clean ro...</td>\n",
       "      <td>2019/03/18</td>\n",
       "      <td>Reading pa</td>\n",
       "      <td>3</td>\n",
       "      <td>2019</td>\n",
       "      <td>Positive</td>\n",
       "    </tr>\n",
       "    <tr>\n",
       "      <th>4981</th>\n",
       "      <td>The smell in the corridors is unbearable. \\n  ...</td>\n",
       "      <td>2018/09/01</td>\n",
       "      <td>NaN</td>\n",
       "      <td>9</td>\n",
       "      <td>2018</td>\n",
       "      <td>Positive</td>\n",
       "    </tr>\n",
       "    <tr>\n",
       "      <th>5704</th>\n",
       "      <td>Checked into the hotel yesterday. The staff we...</td>\n",
       "      <td>2018/09</td>\n",
       "      <td>NaN</td>\n",
       "      <td>9</td>\n",
       "      <td>2018</td>\n",
       "      <td>Negative</td>\n",
       "    </tr>\n",
       "    <tr>\n",
       "      <th>1481</th>\n",
       "      <td>Great hotel. I always stay here in NY. 4 month...</td>\n",
       "      <td>2019/04/15</td>\n",
       "      <td>NaN</td>\n",
       "      <td>4</td>\n",
       "      <td>2019</td>\n",
       "      <td>Positive</td>\n",
       "    </tr>\n",
       "    <tr>\n",
       "      <th>3056</th>\n",
       "      <td>Good location, friendly staff , clean room.Roo...</td>\n",
       "      <td>2019/01/02</td>\n",
       "      <td>NaN</td>\n",
       "      <td>1</td>\n",
       "      <td>2019</td>\n",
       "      <td>Positive</td>\n",
       "    </tr>\n",
       "    <tr>\n",
       "      <th>3002</th>\n",
       "      <td>Location is great! Walking distance to most en...</td>\n",
       "      <td>2019/1/4</td>\n",
       "      <td>NaN</td>\n",
       "      <td>1</td>\n",
       "      <td>2019</td>\n",
       "      <td>Positive</td>\n",
       "    </tr>\n",
       "    <tr>\n",
       "      <th>4178</th>\n",
       "      <td>We got the option that includes breakfast, but...</td>\n",
       "      <td>2018/10/28</td>\n",
       "      <td>NaN</td>\n",
       "      <td>10</td>\n",
       "      <td>2018</td>\n",
       "      <td>Positive</td>\n",
       "    </tr>\n",
       "    <tr>\n",
       "      <th>2736</th>\n",
       "      <td>Service was good. Room was small. Room could h...</td>\n",
       "      <td>2019/01/22</td>\n",
       "      <td>NaN</td>\n",
       "      <td>1</td>\n",
       "      <td>2019</td>\n",
       "      <td>Positive</td>\n",
       "    </tr>\n",
       "    <tr>\n",
       "      <th>775</th>\n",
       "      <td>Nil. Dated and poor decor. Rude staff. Basic r...</td>\n",
       "      <td>2019/06/02</td>\n",
       "      <td>Royal Leamington-Spa</td>\n",
       "      <td>6</td>\n",
       "      <td>2019</td>\n",
       "      <td>Negative</td>\n",
       "    </tr>\n",
       "  </tbody>\n",
       "</table>\n",
       "</div>"
      ],
      "text/plain": [
       "                                                 Review        date  \\\n",
       "3345    Nice hotel. Clean\\n  \\n  Read more\\n  Read less  2018/12/18   \n",
       "6154  What a good hotel 1929 so plenty of olden char...     2018/11   \n",
       "1465  My boyfriend and I enjoyed our stay very much....  2019/04/16   \n",
       "4636  Over all the amenities in side the room we’re ...  2018/09/24   \n",
       "3518  There's nothing I liked about this property ot...  2018/12/10   \n",
       "4988  My second stay. It's a nice hotel with nice cl...  2018/08/31   \n",
       "4554  The room was clean and comfortable. Even thoug...  2018/10/01   \n",
       "4550  The room was great, and the house keeping staf...  2018/10/02   \n",
       "4054  This hotel was a mess, i’m not going to say mu...  2018/11/06   \n",
       "1259  Todo estaba limpio, nos hospedamos en el 9 pis...  2019/04/27   \n",
       "4740  Ac didnt work in first room, so they moved me....  2018/09/17   \n",
       "2016  It was close to Disney springs ..very clean ro...  2019/03/18   \n",
       "4981  The smell in the corridors is unbearable. \\n  ...  2018/09/01   \n",
       "5704  Checked into the hotel yesterday. The staff we...     2018/09   \n",
       "1481  Great hotel. I always stay here in NY. 4 month...  2019/04/15   \n",
       "3056  Good location, friendly staff , clean room.Roo...  2019/01/02   \n",
       "3002  Location is great! Walking distance to most en...    2019/1/4   \n",
       "4178  We got the option that includes breakfast, but...  2018/10/28   \n",
       "2736  Service was good. Room was small. Room could h...  2019/01/22   \n",
       "775   Nil. Dated and poor decor. Rude staff. Basic r...  2019/06/02   \n",
       "\n",
       "                  Location  Month  Year Sentiment  \n",
       "3345                   NaN     12  2018  Positive  \n",
       "6154                   NaN     11  2018  Positive  \n",
       "1465                   NaN      4  2019  Positive  \n",
       "4636                   NaN      9  2018  Positive  \n",
       "3518                   NaN     12  2018  Negative  \n",
       "4988                   NaN      8  2018  Positive  \n",
       "4554            Livingston     10  2018  Positive  \n",
       "4550             Pensacola     10  2018  Positive  \n",
       "4054             Miami, FL     11  2018  Negative  \n",
       "1259                   NaN      4  2019  Positive  \n",
       "4740                   NaN      9  2018  Positive  \n",
       "2016            Reading pa      3  2019  Positive  \n",
       "4981                   NaN      9  2018  Positive  \n",
       "5704                   NaN      9  2018  Negative  \n",
       "1481                   NaN      4  2019  Positive  \n",
       "3056                   NaN      1  2019  Positive  \n",
       "3002                   NaN      1  2019  Positive  \n",
       "4178                   NaN     10  2018  Positive  \n",
       "2736                   NaN      1  2019  Positive  \n",
       "775   Royal Leamington-Spa      6  2019  Negative  "
      ]
     },
     "execution_count": 495,
     "metadata": {},
     "output_type": "execute_result"
    }
   ],
   "source": [
    "Data1.sample(20)"
   ]
  },
  {
   "cell_type": "code",
   "execution_count": 520,
   "metadata": {},
   "outputs": [
    {
     "data": {
      "text/plain": [
       "array(['Positive', 'Negative', 'Neutral'], dtype=object)"
      ]
     },
     "execution_count": 520,
     "metadata": {},
     "output_type": "execute_result"
    }
   ],
   "source": [
    "Data1['Sentiment'].unique()"
   ]
  },
  {
   "cell_type": "code",
   "execution_count": 511,
   "metadata": {},
   "outputs": [
    {
     "data": {
      "text/plain": [
       "Location\n",
       "United States of America    116\n",
       "New York                     34\n",
       "San Jose                     19\n",
       "California                   19\n",
       "Florida                      16\n",
       "                           ... \n",
       "State College, PA             1\n",
       "Los ángeles , us              1\n",
       "Stroudsburg Pa US             1\n",
       "Birmingham, al                1\n",
       "Trinidad and Tobago           1\n",
       "Name: count, Length: 1078, dtype: int64"
      ]
     },
     "execution_count": 511,
     "metadata": {},
     "output_type": "execute_result"
    }
   ],
   "source": [
    "Data1['Location'].value_counts()"
   ]
  },
  {
   "cell_type": "markdown",
   "metadata": {},
   "source": [
    "For United State Of America Sentiment"
   ]
  },
  {
   "cell_type": "code",
   "execution_count": null,
   "metadata": {},
   "outputs": [],
   "source": [
    "United_state=Data1[Data1['Location']=='United States of America']\n",
    "len(United_state[United_state['Sentiment']=='Positive'])\n",
    "len(United_state[United_state['Sentiment']=='Negative'])\n",
    "len(United_state[United_state['Sentiment']=='Neutral'])"
   ]
  },
  {
   "cell_type": "code",
   "execution_count": 524,
   "metadata": {},
   "outputs": [
    {
     "data": {
      "image/png": "[encoded data removed]",
      "text/plain": [
       "<Figure size 640x480 with 1 Axes>"
      ]
     },
     "metadata": {},
     "output_type": "display_data"
    }
   ],
   "source": [
    "import matplotlib.pyplot as plt\n",
    "\n",
    "Positive = len(United_state[United_state['Sentiment']=='Positive'])\n",
    "Negative = len(United_state[United_state['Sentiment']=='Negative'])\n",
    "Neutral=len(United_state[United_state['Sentiment']=='Neutral'])\n",
    "\n",
    "labels = ['Positive Review', 'Negative Review','Neutral Review']\n",
    "sizes = [Positive, Negative,Neutral]\n",
    "\n",
    "\n",
    "plt.pie(sizes, labels=labels, autopct='%1.1f%%', startangle=90)\n",
    "\n",
    "plt.axis('equal')\n",
    "plt.title('United States of America')\n",
    "plt.show()"
   ]
  },
  {
   "cell_type": "code",
   "execution_count": 527,
   "metadata": {},
   "outputs": [
    {
     "data": {
      "text/plain": [
       "0"
      ]
     },
     "execution_count": 527,
     "metadata": {},
     "output_type": "execute_result"
    }
   ],
   "source": [
    "New_York=Data1[Data1['Location']=='New York']\n",
    "len(New_York[New_York['Sentiment']=='Positive'])\n",
    "len(New_York[New_York['Sentiment']=='Negative'])\n",
    "len(New_York[New_York['Sentiment']=='Neutral'])"
   ]
  },
  {
   "cell_type": "code",
   "execution_count": 531,
   "metadata": {},
   "outputs": [
    {
     "data": {
      "image/png": "[encoded data removed]",
      "text/plain": [
       "<Figure size 640x480 with 1 Axes>"
      ]
     },
     "metadata": {},
     "output_type": "display_data"
    }
   ],
   "source": [
    "import matplotlib.pyplot as plt\n",
    "\n",
    "Positive = len(New_York[New_York['Sentiment']=='Positive'])\n",
    "Negative = len(New_York[New_York['Sentiment']=='Negative'])\n",
    "Neutral=len(New_York[New_York['Sentiment']=='Neutral'])\n",
    "\n",
    "labels = ['Positive Review', 'Negative Review','Neutral Review']\n",
    "sizes = [Positive, Negative,Neutral]\n",
    "\n",
    "\n",
    "plt.pie(sizes, labels=labels, autopct='%1.1f%%', startangle=20)\n",
    "\n",
    "plt.axis('equal')\n",
    "plt.title('New York')\n",
    "plt.show()"
   ]
  }
 ],
 "metadata": {
  "kernelspec": {
   "display_name": "Python 3",
   "language": "python",
   "name": "python3"
  },
  "language_info": {
   "codemirror_mode": {
    "name": "ipython",
    "version": 3
   },
   "file_extension": ".py",
   "mimetype": "text/x-python",
   "name": "python",
   "nbconvert_exporter": "python",
   "pygments_lexer": "ipython3",
   "version": "3.12.0"
  }
 },
 "nbformat": 4,
 "nbformat_minor": 2
}
